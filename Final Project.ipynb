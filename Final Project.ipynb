{
 "cells": [
  {
   "cell_type": "code",
   "execution_count": 89,
   "metadata": {},
   "outputs": [
    {
     "name": "stdout",
     "output_type": "stream",
     "text": [
      "+-----+----------+-----------+---+------+---------+-------------+---------+--------------+---------------+------+\n",
      "|label|CustomerId|CreditScore|Age|Tenure|  Balance|NumOfProducts|HasCrCard|IsActiveMember|EstimatedSalary|Exited|\n",
      "+-----+----------+-----------+---+------+---------+-------------+---------+--------------+---------------+------+\n",
      "|    1|  15634602|        619| 42|     2|        0|            1|        1|             1|      101348.88|     1|\n",
      "|    2|  15647311|        608| 41|     1| 83807.86|            1|        0|             1|      112542.58|     0|\n",
      "|    3|  15619304|        502| 42|     8| 159660.8|            3|        1|             0|      113931.57|     1|\n",
      "|    4|  15701354|        699| 39|     1|        0|            2|        0|             0|       93826.63|     0|\n",
      "|    5|  15737888|        850| 43|     2|125510.82|            1|        1|             1|        79084.1|     0|\n",
      "|    6|  15574012|        645| 44|     8|113755.78|            2|        1|             0|      149756.71|     1|\n",
      "|    7|  15592531|        822| 50|     7|        0|            2|        1|             1|        10062.8|     0|\n",
      "|    8|  15656148|        376| 29|     4|115046.74|            4|        1|             0|      119346.88|     1|\n",
      "|    9|  15792365|        501| 44|     4|142051.07|            2|        0|             1|        74940.5|     0|\n",
      "|   10|  15592389|        684| 27|     2|134603.88|            1|        1|             1|       71725.73|     0|\n",
      "+-----+----------+-----------+---+------+---------+-------------+---------+--------------+---------------+------+\n",
      "only showing top 10 rows\n",
      "\n"
     ]
    }
   ],
   "source": [
    "from pyspark.ml.regression import LinearRegression\n",
    "\n",
    "# Load training data\n",
    "training = spark.read.format(\"csv\")\\\n",
    "    .option(\"header\", \"true\")\\\n",
    "    .load(\"Churn_Modelling.csv\")\n",
    "\n",
    "training = training.drop(\"Surname\", \"Geography\", \"Gender\")\n",
    "training = training.withColumnRenamed(\"RowNumber\", \"label\")\n",
    "training.show(10)\n",
    "\n"
   ]
  },
  {
   "cell_type": "code",
   "execution_count": 90,
   "metadata": {},
   "outputs": [
    {
     "data": {
      "text/plain": [
       "[Row(label=1, CustomerId=15634602, CreditScore=619, Age=42, Tenure=2, Balance=0, NumOfProducts=1, HasCrCard=1, IsActiveMember=1, EstimatedSalary=101348, Exited=1),\n",
       " Row(label=2, CustomerId=15647311, CreditScore=608, Age=41, Tenure=1, Balance=83807, NumOfProducts=1, HasCrCard=0, IsActiveMember=1, EstimatedSalary=112542, Exited=0),\n",
       " Row(label=3, CustomerId=15619304, CreditScore=502, Age=42, Tenure=8, Balance=159660, NumOfProducts=3, HasCrCard=1, IsActiveMember=0, EstimatedSalary=113931, Exited=1),\n",
       " Row(label=4, CustomerId=15701354, CreditScore=699, Age=39, Tenure=1, Balance=0, NumOfProducts=2, HasCrCard=0, IsActiveMember=0, EstimatedSalary=93826, Exited=0),\n",
       " Row(label=5, CustomerId=15737888, CreditScore=850, Age=43, Tenure=2, Balance=125510, NumOfProducts=1, HasCrCard=1, IsActiveMember=1, EstimatedSalary=79084, Exited=0)]"
      ]
     },
     "execution_count": 90,
     "metadata": {},
     "output_type": "execute_result"
    }
   ],
   "source": [
    "from pyspark.sql.types import IntegerType\n",
    "\n",
    "cols = [\"label\", \"CustomerId\", \"CreditScore\", \"Age\", \"Tenure\", \"Balance\", \"NumOfProducts\", \"HasCrCard\", \"IsActiveMember\", \"EstimatedSalary\", \"Exited\"]\n",
    "\n",
    "for i in cols:\n",
    "    training = training.withColumn(i, training[i].cast(IntegerType()))\n",
    "\n",
    "training.take(5)"
   ]
  },
  {
   "cell_type": "code",
   "execution_count": 91,
   "metadata": {},
   "outputs": [],
   "source": [
    "from pyspark.ml.linalg import Vectors\n",
    "from pyspark.ml.feature import VectorAssembler\n",
    "\n",
    "assembler = VectorAssembler(inputCols=[\"CreditScore\", \"Age\", \"Tenure\", \"Balance\", \"NumOfProducts\", \"HasCrCard\", \"IsActiveMember\", \"EstimatedSalary\", \"Exited\"], outputCol=\"features\")\n",
    "\n",
    "output = assembler.transform(training)"
   ]
  },
  {
   "cell_type": "code",
   "execution_count": 92,
   "metadata": {},
   "outputs": [
    {
     "name": "stdout",
     "output_type": "stream",
     "text": [
      "Coefficients: [0.15271031089535145,1.2625922971452483,-6.433142738839414,-0.00026656688692134554,23.979986883192446,3.6738767121073534,50.18854530055087,-0.0002770144260690374,-110.43125572988305]\n",
      "Intercept: 4889.734693812233\n",
      "numIterations: 9\n",
      "objectiveHistory: [0.5000000000000002, 0.49988814163382367, 0.4997258643548936, 0.4997247099441776, 0.4997244131016744, 0.4997244102140144, 0.49972440868075785, 0.4997244086759044, 0.4997244086753518]\n",
      "+-------------------+\n",
      "|          residuals|\n",
      "+-------------------+\n",
      "|-4962.7612623715995|\n",
      "| -5046.568307833587|\n",
      "| -4856.020986340553|\n",
      "|  -5057.25597620394|\n",
      "| -5078.441831419957|\n",
      "| -4855.716469639887|\n",
      "| -5125.395261677535|\n",
      "| -4875.470927119345|\n",
      "| -5026.587014813095|\n",
      "| -5027.505099515671|\n",
      "|  -4958.46183527702|\n",
      "|-4995.1072237132685|\n",
      "| -4972.380964162884|\n",
      "| -4954.061579678341|\n",
      "| -5054.417489824353|\n",
      "| -5047.497030601815|\n",
      "| -4919.715100318681|\n",
      "|-5025.8083109328045|\n",
      "| -4958.615672943157|\n",
      "| -5058.968796547549|\n",
      "+-------------------+\n",
      "only showing top 20 rows\n",
      "\n",
      "RMSE: 2885.941976\n",
      "r2: 0.000561\n"
     ]
    }
   ],
   "source": [
    "lr = LinearRegression(maxIter=10, regParam=0.3, elasticNetParam=0.8)\n",
    "\n",
    "# Fit the model\n",
    "lrModel = lr.fit(output)\n",
    "\n",
    "# Print the coefficients and intercept for linear regression\n",
    "print(\"Coefficients: %s\" % str(lrModel.coefficients))\n",
    "print(\"Intercept: %s\" % str(lrModel.intercept))\n",
    "\n",
    "# Summarize the model over the training set and print out some metrics\n",
    "trainingSummary = lrModel.summary\n",
    "print(\"numIterations: %d\" % trainingSummary.totalIterations)\n",
    "print(\"objectiveHistory: %s\" % str(trainingSummary.objectiveHistory))\n",
    "trainingSummary.residuals.show()\n",
    "print(\"RMSE: %f\" % trainingSummary.rootMeanSquaredError)\n",
    "print(\"r2: %f\" % trainingSummary.r2)"
   ]
  },
  {
   "cell_type": "code",
   "execution_count": null,
   "metadata": {},
   "outputs": [],
   "source": []
  }
 ],
 "metadata": {
  "kernelspec": {
   "display_name": "Python 3",
   "language": "python",
   "name": "python3"
  },
  "language_info": {
   "codemirror_mode": {
    "name": "ipython",
    "version": 3
   },
   "file_extension": ".py",
   "mimetype": "text/x-python",
   "name": "python",
   "nbconvert_exporter": "python",
   "pygments_lexer": "ipython3",
   "version": "3.8.5"
  }
 },
 "nbformat": 4,
 "nbformat_minor": 4
}
