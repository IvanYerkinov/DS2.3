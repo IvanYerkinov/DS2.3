{
 "cells": [
  {
   "cell_type": "code",
   "execution_count": 3,
   "metadata": {},
   "outputs": [
    {
     "ename": "ValueError",
     "evalue": "Cannot run multiple SparkContexts at once; existing SparkContext(app=pyspark-shell, master=local[*]) created by __init__ at <ipython-input-1-0b4ecbdae482>:2 ",
     "output_type": "error",
     "traceback": [
      "\u001b[0;31m---------------------------------------------------------------------------\u001b[0m",
      "\u001b[0;31mValueError\u001b[0m                                Traceback (most recent call last)",
      "\u001b[0;32m<ipython-input-3-0b4ecbdae482>\u001b[0m in \u001b[0;36m<module>\u001b[0;34m\u001b[0m\n\u001b[1;32m      1\u001b[0m \u001b[0;32mfrom\u001b[0m \u001b[0mpyspark\u001b[0m \u001b[0;32mimport\u001b[0m \u001b[0mSparkContext\u001b[0m\u001b[0;34m\u001b[0m\u001b[0;34m\u001b[0m\u001b[0m\n\u001b[0;32m----> 2\u001b[0;31m \u001b[0msc\u001b[0m \u001b[0;34m=\u001b[0m \u001b[0mSparkContext\u001b[0m\u001b[0;34m(\u001b[0m\u001b[0;34m)\u001b[0m\u001b[0;34m\u001b[0m\u001b[0;34m\u001b[0m\u001b[0m\n\u001b[0m\u001b[1;32m      3\u001b[0m \u001b[0;32mfrom\u001b[0m \u001b[0mpyspark\u001b[0m\u001b[0;34m.\u001b[0m\u001b[0msql\u001b[0m \u001b[0;32mimport\u001b[0m \u001b[0mSparkSession\u001b[0m\u001b[0;34m\u001b[0m\u001b[0;34m\u001b[0m\u001b[0m\n\u001b[1;32m      4\u001b[0m \u001b[0;32mfrom\u001b[0m \u001b[0mpyspark\u001b[0m\u001b[0;34m.\u001b[0m\u001b[0mmllib\u001b[0m\u001b[0;34m.\u001b[0m\u001b[0mregression\u001b[0m \u001b[0;32mimport\u001b[0m \u001b[0mLabeledPoint\u001b[0m\u001b[0;34m\u001b[0m\u001b[0;34m\u001b[0m\u001b[0m\n\u001b[1;32m      5\u001b[0m \u001b[0;32mfrom\u001b[0m \u001b[0mpyspark\u001b[0m\u001b[0;34m.\u001b[0m\u001b[0mmllib\u001b[0m\u001b[0;34m.\u001b[0m\u001b[0mregression\u001b[0m \u001b[0;32mimport\u001b[0m \u001b[0mLinearRegressionWithSGD\u001b[0m \u001b[0;32mas\u001b[0m \u001b[0mlrSGD\u001b[0m\u001b[0;34m\u001b[0m\u001b[0;34m\u001b[0m\u001b[0m\n",
      "\u001b[0;32m/usr/local/lib/python3.8/site-packages/pyspark/context.py\u001b[0m in \u001b[0;36m__init__\u001b[0;34m(self, master, appName, sparkHome, pyFiles, environment, batchSize, serializer, conf, gateway, jsc, profiler_cls)\u001b[0m\n\u001b[1;32m    131\u001b[0m                 \" is not allowed as it is a security risk.\")\n\u001b[1;32m    132\u001b[0m \u001b[0;34m\u001b[0m\u001b[0m\n\u001b[0;32m--> 133\u001b[0;31m         \u001b[0mSparkContext\u001b[0m\u001b[0;34m.\u001b[0m\u001b[0m_ensure_initialized\u001b[0m\u001b[0;34m(\u001b[0m\u001b[0mself\u001b[0m\u001b[0;34m,\u001b[0m \u001b[0mgateway\u001b[0m\u001b[0;34m=\u001b[0m\u001b[0mgateway\u001b[0m\u001b[0;34m,\u001b[0m \u001b[0mconf\u001b[0m\u001b[0;34m=\u001b[0m\u001b[0mconf\u001b[0m\u001b[0;34m)\u001b[0m\u001b[0;34m\u001b[0m\u001b[0;34m\u001b[0m\u001b[0m\n\u001b[0m\u001b[1;32m    134\u001b[0m         \u001b[0;32mtry\u001b[0m\u001b[0;34m:\u001b[0m\u001b[0;34m\u001b[0m\u001b[0;34m\u001b[0m\u001b[0m\n\u001b[1;32m    135\u001b[0m             self._do_init(master, appName, sparkHome, pyFiles, environment, batchSize, serializer,\n",
      "\u001b[0;32m/usr/local/lib/python3.8/site-packages/pyspark/context.py\u001b[0m in \u001b[0;36m_ensure_initialized\u001b[0;34m(cls, instance, gateway, conf)\u001b[0m\n\u001b[1;32m    334\u001b[0m \u001b[0;34m\u001b[0m\u001b[0m\n\u001b[1;32m    335\u001b[0m                     \u001b[0;31m# Raise error if there is already a running Spark context\u001b[0m\u001b[0;34m\u001b[0m\u001b[0;34m\u001b[0m\u001b[0;34m\u001b[0m\u001b[0m\n\u001b[0;32m--> 336\u001b[0;31m                     raise ValueError(\n\u001b[0m\u001b[1;32m    337\u001b[0m                         \u001b[0;34m\"Cannot run multiple SparkContexts at once; \"\u001b[0m\u001b[0;34m\u001b[0m\u001b[0;34m\u001b[0m\u001b[0m\n\u001b[1;32m    338\u001b[0m                         \u001b[0;34m\"existing SparkContext(app=%s, master=%s)\"\u001b[0m\u001b[0;34m\u001b[0m\u001b[0;34m\u001b[0m\u001b[0m\n",
      "\u001b[0;31mValueError\u001b[0m: Cannot run multiple SparkContexts at once; existing SparkContext(app=pyspark-shell, master=local[*]) created by __init__ at <ipython-input-1-0b4ecbdae482>:2 "
     ]
    }
   ],
   "source": [
    "from pyspark import SparkContext\n",
    "sc = SparkContext()\n",
    "from pyspark.sql import SparkSession\n",
    "from pyspark.mllib.regression import LabeledPoint\n",
    "from pyspark.mllib.regression import LinearRegressionWithSGD as lrSGD\n",
    "\n",
    "spark = SparkSession \\\n",
    "    .builder \\\n",
    "    .appName(\"Python Spark regression example\") \\\n",
    "    .config(\"spark.some.config.option\", \"some-value\") \\\n",
    "    .getOrCreate()"
   ]
  },
  {
   "cell_type": "code",
   "execution_count": 4,
   "metadata": {},
   "outputs": [
    {
     "name": "stdout",
     "output_type": "stream",
     "text": [
      "+-----------+--------+------+--------------------+------+----+-----+-----+----------------+-------+-----+--------+\n",
      "|PassengerId|Survived|Pclass|                Name|   Sex| Age|SibSp|Parch|          Ticket|   Fare|Cabin|Embarked|\n",
      "+-----------+--------+------+--------------------+------+----+-----+-----+----------------+-------+-----+--------+\n",
      "|          1|       0|     3|Braund, Mr. Owen ...|  male|22.0|    1|    0|       A/5 21171|   7.25| null|       S|\n",
      "|          2|       1|     1|Cumings, Mrs. Joh...|female|38.0|    1|    0|        PC 17599|71.2833|  C85|       C|\n",
      "|          3|       1|     3|Heikkinen, Miss. ...|female|26.0|    0|    0|STON/O2. 3101282|  7.925| null|       S|\n",
      "|          4|       1|     1|Futrelle, Mrs. Ja...|female|35.0|    1|    0|          113803|   53.1| C123|       S|\n",
      "|          5|       0|     3|Allen, Mr. Willia...|  male|35.0|    0|    0|          373450|   8.05| null|       S|\n",
      "|          6|       0|     3|    Moran, Mr. James|  male|null|    0|    0|          330877| 8.4583| null|       Q|\n",
      "|          7|       0|     1|McCarthy, Mr. Tim...|  male|54.0|    0|    0|           17463|51.8625|  E46|       S|\n",
      "|          8|       0|     3|Palsson, Master. ...|  male| 2.0|    3|    1|          349909| 21.075| null|       S|\n",
      "|          9|       1|     3|Johnson, Mrs. Osc...|female|27.0|    0|    2|          347742|11.1333| null|       S|\n",
      "|         10|       1|     2|Nasser, Mrs. Nich...|female|14.0|    1|    0|          237736|30.0708| null|       C|\n",
      "|         11|       1|     3|Sandstrom, Miss. ...|female| 4.0|    1|    1|         PP 9549|   16.7|   G6|       S|\n",
      "|         12|       1|     1|Bonnell, Miss. El...|female|58.0|    0|    0|          113783|  26.55| C103|       S|\n",
      "|         13|       0|     3|Saundercock, Mr. ...|  male|20.0|    0|    0|       A/5. 2151|   8.05| null|       S|\n",
      "|         14|       0|     3|Andersson, Mr. An...|  male|39.0|    1|    5|          347082| 31.275| null|       S|\n",
      "|         15|       0|     3|Vestrom, Miss. Hu...|female|14.0|    0|    0|          350406| 7.8542| null|       S|\n",
      "|         16|       1|     2|Hewlett, Mrs. (Ma...|female|55.0|    0|    0|          248706|   16.0| null|       S|\n",
      "|         17|       0|     3|Rice, Master. Eugene|  male| 2.0|    4|    1|          382652| 29.125| null|       Q|\n",
      "|         18|       1|     2|Williams, Mr. Cha...|  male|null|    0|    0|          244373|   13.0| null|       S|\n",
      "|         19|       0|     3|Vander Planke, Mr...|female|31.0|    1|    0|          345763|   18.0| null|       S|\n",
      "|         20|       1|     3|Masselmani, Mrs. ...|female|null|    0|    0|            2649|  7.225| null|       C|\n",
      "+-----------+--------+------+--------------------+------+----+-----+-----+----------------+-------+-----+--------+\n",
      "only showing top 20 rows\n",
      "\n"
     ]
    }
   ],
   "source": [
    "regressionDataFrame = spark.read.csv('titanic.csv',header=True, inferSchema = True)\n",
    "\n",
    "regressionDataFrame.show()\n"
   ]
  },
  {
   "cell_type": "code",
   "execution_count": 5,
   "metadata": {},
   "outputs": [],
   "source": [
    "df = regressionDataFrame.where(regressionDataFrame.Name.isNotNull())\n"
   ]
  },
  {
   "cell_type": "code",
   "execution_count": 6,
   "metadata": {},
   "outputs": [
    {
     "name": "stdout",
     "output_type": "stream",
     "text": [
      "+-----------+--------+------+--------------------+------+----+-----+-----+----------------+-------+-----+--------+\n",
      "|PassengerId|Survived|Pclass|                Name|   Sex| Age|SibSp|Parch|          Ticket|   Fare|Cabin|Embarked|\n",
      "+-----------+--------+------+--------------------+------+----+-----+-----+----------------+-------+-----+--------+\n",
      "|          1|       0|     3|Braund, Mr. Owen ...|  male|22.0|    1|    0|       A/5 21171|   7.25| null|       S|\n",
      "|          2|       1|     1|Cumings, Mrs. Joh...|female|38.0|    1|    0|        PC 17599|71.2833|  C85|       C|\n",
      "|          3|       1|     3|Heikkinen, Miss. ...|female|26.0|    0|    0|STON/O2. 3101282|  7.925| null|       S|\n",
      "|          4|       1|     1|Futrelle, Mrs. Ja...|female|35.0|    1|    0|          113803|   53.1| C123|       S|\n",
      "|          5|       0|     3|Allen, Mr. Willia...|  male|35.0|    0|    0|          373450|   8.05| null|       S|\n",
      "+-----------+--------+------+--------------------+------+----+-----+-----+----------------+-------+-----+--------+\n",
      "only showing top 5 rows\n",
      "\n"
     ]
    }
   ],
   "source": [
    "df.show(5)"
   ]
  },
  {
   "cell_type": "code",
   "execution_count": 7,
   "metadata": {},
   "outputs": [],
   "source": [
    "names= df.filter((regressionDataFrame.Pclass == 1) & (df.Sex == 'female')).rdd.map(lambda r: r.Name).collect()"
   ]
  },
  {
   "cell_type": "code",
   "execution_count": 9,
   "metadata": {},
   "outputs": [
    {
     "name": "stdout",
     "output_type": "stream",
     "text": [
      "Cumings, Mrs. John Bradley (Florence Briggs Thayer)\n",
      "Futrelle, Mrs. Jacques Heath (Lily May Peel)\n",
      "Bonnell, Miss. Elizabeth\n",
      "Spencer, Mrs. William Augustus (Marie Eugenie)\n",
      "Harper, Mrs. Henry Sleeper (Myna Haxtun)\n",
      "Icard, Miss. Amelie\n",
      "Fortune, Miss. Mabel Helen\n",
      "Newsom, Miss. Helen Monypeny\n",
      "Pears, Mrs. Thomas (Edith Wearne)\n",
      "Chibnall, Mrs. (Edith Martha Bowerman)\n",
      "Isham, Miss. Ann Elizabeth\n",
      "Brown, Mrs. James Joseph (Margaret Tobin)\n",
      "Lurette, Miss. Elise\n",
      "Newell, Miss. Madeleine\n",
      "Bazzani, Miss. Albina\n",
      "Harris, Mrs. Henry Birkhardt (Irene Wallach)\n",
      "Thorne, Mrs. Gertrude Maybelle\n",
      "Cherry, Miss. Gladys\n",
      "Ward, Miss. Anna\n",
      "Graham, Mrs. William Thompson (Edith Junkins)\n",
      "Bissette, Miss. Amelia\n",
      "Andrews, Miss. Kornelia Theodosia\n",
      "\"Barber, Miss. Ellen \"\"Nellie\"\"\"\n",
      "Bishop, Mrs. Dickinson H (Helen Walton)\n",
      "Allison, Miss. Helen Loraine\n",
      "Baxter, Mrs. James (Helene DeLaudeniere Chaput)\n",
      "Fleming, Miss. Margaret\n",
      "Penasco y Castellana, Mrs. Victor de Satode (Maria Josefa Perez de Soto y Vallejo)\n",
      "Francatelli, Miss. Laura Mabel\n",
      "Hays, Miss. Margaret Bechstein\n",
      "Ryerson, Miss. Emily Borie\n",
      "Wick, Miss. Mary Natalie\n",
      "Spedden, Mrs. Frederic Oakley (Margaretta Corning Stone)\n",
      "Young, Miss. Marie Grice\n",
      "Hippach, Miss. Jean Gertrude\n",
      "Frauenthal, Mrs. Henry William (Clara Heinsheimer)\n",
      "Burns, Miss. Elizabeth Margaret\n",
      "Fortune, Miss. Alice Elizabeth\n",
      "Bowerman, Miss. Elsie Edith\n",
      "Warren, Mrs. Frank Manley (Anna Sophia Atkinson)\n",
      "Aubart, Mme. Leontine Pauline\n",
      "Meyer, Mrs. Edgar Joseph (Leila Saks)\n",
      "Bidois, Miss. Rosalie\n",
      "Holverson, Mrs. Alexander Oskar (Mary Aline Towner)\n",
      "Newell, Miss. Marjorie\n",
      "Minahan, Miss. Daisy E\n",
      "Carter, Miss. Lucile Polk\n",
      "Kenyon, Mrs. Frederick R (Marion)\n",
      "Hoyt, Mrs. Frederick Maxfield (Jane Anne Forby)\n",
      "Eustis, Miss. Elizabeth Mussey\n",
      "Allison, Mrs. Hudson J C (Bessie Waldo Daniels)\n",
      "Maioni, Miss. Roberta\n",
      "Rothschild, Mrs. Martin (Elizabeth L. Barrett)\n",
      "Perreault, Miss. Anne\n",
      "Hippach, Mrs. Louis Albert (Ida Sophia Fischer)\n",
      "LeRoy, Miss. Bertha\n",
      "Frolicher, Miss. Hedwig Margaritha\n",
      "Crosby, Miss. Harriet R\n",
      "\"Duff Gordon, Lady. (Lucille Christiana Sutherland) (\"\"Mrs Morgan\"\")\"\n",
      "Taussig, Mrs. Emil (Tillie Mandelbaum)\n",
      "Appleton, Mrs. Edward Dale (Charlotte Lamson)\n",
      "Silvey, Mrs. William Baird (Alice Munger)\n",
      "Thayer, Mrs. John Borland (Marian Longstreth Morris)\n",
      "Taussig, Miss. Ruth\n",
      "Stephenson, Mrs. Walter Bertram (Martha Eustis)\n",
      "Shutes, Miss. Elizabeth W\n",
      "Longley, Miss. Gretchen Fiske\n",
      "Sagesser, Mlle. Emma\n",
      "Taylor, Mrs. Elmer Zebley (Juliet Cummins Wright)\n",
      "Madill, Miss. Georgette Alexandra\n",
      "Astor, Mrs. John Jacob (Madeleine Talmadge Force)\n",
      "Cleaver, Miss. Alice\n",
      "\"Mayne, Mlle. Berthe Antonine (\"\"Mrs de Villiers\"\")\"\n",
      "Endres, Miss. Caroline Louise\n",
      "Allen, Miss. Elisabeth Walton\n",
      "\"Ryerson, Miss. Susan Parker \"\"Suzette\"\"\"\n",
      "Rothes, the Countess. of (Lucy Noel Martha Dyer-Edwards)\n",
      "Carter, Mrs. William Ernest (Lucile Polk)\n",
      "Hogeboom, Mrs. John C (Anna Andrews)\n",
      "Robert, Mrs. Edward Scott (Elisabeth Walton McMillan)\n",
      "Dick, Mrs. Albert Adrian (Vera Gillespie)\n",
      "Leader, Dr. Alice (Farnham)\n",
      "Chambers, Mrs. Norman Campbell (Bertha Griggs)\n",
      "Hays, Mrs. Charles Melville (Clara Jennings Gregg)\n",
      "Stone, Mrs. George Nelson (Martha Evelyn)\n",
      "Compton, Miss. Sara Rebecca\n",
      "Serepeca, Miss. Augusta\n",
      "Goldenberg, Mrs. Samuel L (Edwiga Grabowska)\n",
      "Lines, Miss. Mary Conover\n",
      "Wick, Mrs. George Dennick (Mary Hitchcock)\n",
      "Swift, Mrs. Frederick Joel (Margaret Welles Barron)\n",
      "Beckwith, Mrs. Richard Leonard (Sallie Monypeny)\n",
      "Potter, Mrs. Thomas Jr (Lily Alexenia Wilson)\n",
      "Graham, Miss. Margaret Edith\n"
     ]
    }
   ],
   "source": [
    "for i in names:\n",
    "    print(i)"
   ]
  },
  {
   "cell_type": "code",
   "execution_count": 10,
   "metadata": {},
   "outputs": [],
   "source": [
    "names2= df.filter((regressionDataFrame.Pclass == 1) & (df.Survived == 1) & (df.Embarked == 'C') & (df.Sex == 'female')).rdd.map(lambda r: r.Name).collect()"
   ]
  },
  {
   "cell_type": "code",
   "execution_count": 11,
   "metadata": {},
   "outputs": [
    {
     "name": "stdout",
     "output_type": "stream",
     "text": [
      "Cumings, Mrs. John Bradley (Florence Briggs Thayer)\n",
      "Spencer, Mrs. William Augustus (Marie Eugenie)\n",
      "Harper, Mrs. Henry Sleeper (Myna Haxtun)\n",
      "Brown, Mrs. James Joseph (Margaret Tobin)\n",
      "Lurette, Miss. Elise\n",
      "Newell, Miss. Madeleine\n",
      "Bazzani, Miss. Albina\n",
      "Thorne, Mrs. Gertrude Maybelle\n",
      "Ward, Miss. Anna\n",
      "Bishop, Mrs. Dickinson H (Helen Walton)\n",
      "Baxter, Mrs. James (Helene DeLaudeniere Chaput)\n",
      "Fleming, Miss. Margaret\n",
      "Penasco y Castellana, Mrs. Victor de Satode (Maria Josefa Perez de Soto y Vallejo)\n",
      "Francatelli, Miss. Laura Mabel\n",
      "Hays, Miss. Margaret Bechstein\n",
      "Ryerson, Miss. Emily Borie\n",
      "Spedden, Mrs. Frederic Oakley (Margaretta Corning Stone)\n",
      "Young, Miss. Marie Grice\n",
      "Hippach, Miss. Jean Gertrude\n",
      "Burns, Miss. Elizabeth Margaret\n",
      "Warren, Mrs. Frank Manley (Anna Sophia Atkinson)\n",
      "Aubart, Mme. Leontine Pauline\n",
      "Meyer, Mrs. Edgar Joseph (Leila Saks)\n",
      "Bidois, Miss. Rosalie\n",
      "Newell, Miss. Marjorie\n",
      "Eustis, Miss. Elizabeth Mussey\n",
      "Rothschild, Mrs. Martin (Elizabeth L. Barrett)\n",
      "Hippach, Mrs. Louis Albert (Ida Sophia Fischer)\n",
      "LeRoy, Miss. Bertha\n",
      "Frolicher, Miss. Hedwig Margaritha\n",
      "\"Duff Gordon, Lady. (Lucille Christiana Sutherland) (\"\"Mrs Morgan\"\")\"\n",
      "Thayer, Mrs. John Borland (Marian Longstreth Morris)\n",
      "Stephenson, Mrs. Walter Bertram (Martha Eustis)\n",
      "Sagesser, Mlle. Emma\n",
      "Astor, Mrs. John Jacob (Madeleine Talmadge Force)\n",
      "\"Mayne, Mlle. Berthe Antonine (\"\"Mrs de Villiers\"\")\"\n",
      "Endres, Miss. Caroline Louise\n",
      "\"Ryerson, Miss. Susan Parker \"\"Suzette\"\"\"\n",
      "Compton, Miss. Sara Rebecca\n",
      "Serepeca, Miss. Augusta\n",
      "Goldenberg, Mrs. Samuel L (Edwiga Grabowska)\n",
      "Potter, Mrs. Thomas Jr (Lily Alexenia Wilson)\n"
     ]
    }
   ],
   "source": [
    "for i in names2:\n",
    "    print(i)"
   ]
  },
  {
   "cell_type": "code",
   "execution_count": null,
   "metadata": {},
   "outputs": [],
   "source": []
  }
 ],
 "metadata": {
  "kernelspec": {
   "display_name": "Python 3",
   "language": "python",
   "name": "python3"
  },
  "language_info": {
   "codemirror_mode": {
    "name": "ipython",
    "version": 3
   },
   "file_extension": ".py",
   "mimetype": "text/x-python",
   "name": "python",
   "nbconvert_exporter": "python",
   "pygments_lexer": "ipython3",
   "version": "3.8.5"
  }
 },
 "nbformat": 4,
 "nbformat_minor": 4
}
